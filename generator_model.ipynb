{
 "cells": [
  {
   "cell_type": "code",
   "execution_count": 24,
   "metadata": {},
   "outputs": [],
   "source": [
    "from keras.preprocessing.image import ImageDataGenerator, array_to_img, img_to_array, load_img"
   ]
  },
  {
   "cell_type": "code",
   "execution_count": 25,
   "metadata": {},
   "outputs": [],
   "source": [
    "from keras.models import Sequential\n",
    "from keras.layers import Conv2D, MaxPooling2D\n",
    "from keras.layers import Activation, Dropout, Flatten, Dense\n",
    "\n",
    "model = Sequential()\n",
    "model.add(Conv2D(128, (3, 3), input_shape=(100,100,3)))#Filtre sayısı,Filtre penceresi(kernel) boyutu,Giriş görüntüsü değerleri\n",
    "model.add(Activation('relu')) #Aktivasyon fonksiyonu\n",
    "model.add(MaxPooling2D(pool_size=(2, 2))) #Konvolüsyon katmanı için giriş boyutunu azaltmaktır.Ezberlemenin önüne geçmek için\n",
    "\n",
    "model.add(Conv2D(32, (3, 3)))\n",
    "model.add(Activation('relu'))\n",
    "model.add(MaxPooling2D(pool_size=(2, 2)))\n",
    "\n",
    "model.add(Conv2D(64, (3, 3)))\n",
    "model.add(Activation('relu'))\n",
    "model.add(MaxPooling2D(pool_size=(2, 2)))\n",
    "model.add(Flatten()) #Bu sinir ağındaki verileri tek boyutlu diziye çeviriyor.\n",
    "model.add(Dense(64))\n",
    "model.add(Activation('relu'))\n",
    "model.add(Dropout(0.5)) # Ağın ezber yapmasının önüne geçmesi için bu katman kullanılır.\n",
    "model.add(Dense(1,activation=\"sigmoid\"))\n",
    "\n",
    "model.compile(loss='binary_crossentropy',optimizer='rmsprop', metrics=['accuracy'])#Hata değeri,ağın güncellemesi,model değerlendşrme"
   ]
  },
  {
   "cell_type": "code",
   "execution_count": 26,
   "metadata": {},
   "outputs": [
    {
     "name": "stdout",
     "output_type": "stream",
     "text": [
      "Model: \"sequential_7\"\n",
      "_________________________________________________________________\n",
      "Layer (type)                 Output Shape              Param #   \n",
      "=================================================================\n",
      "conv2d_17 (Conv2D)           (None, 98, 98, 128)       3584      \n",
      "_________________________________________________________________\n",
      "activation_23 (Activation)   (None, 98, 98, 128)       0         \n",
      "_________________________________________________________________\n",
      "max_pooling2d_17 (MaxPooling (None, 49, 49, 128)       0         \n",
      "_________________________________________________________________\n",
      "conv2d_18 (Conv2D)           (None, 47, 47, 32)        36896     \n",
      "_________________________________________________________________\n",
      "activation_24 (Activation)   (None, 47, 47, 32)        0         \n",
      "_________________________________________________________________\n",
      "max_pooling2d_18 (MaxPooling (None, 23, 23, 32)        0         \n",
      "_________________________________________________________________\n",
      "conv2d_19 (Conv2D)           (None, 21, 21, 64)        18496     \n",
      "_________________________________________________________________\n",
      "activation_25 (Activation)   (None, 21, 21, 64)        0         \n",
      "_________________________________________________________________\n",
      "max_pooling2d_19 (MaxPooling (None, 10, 10, 64)        0         \n",
      "_________________________________________________________________\n",
      "flatten_6 (Flatten)          (None, 6400)              0         \n",
      "_________________________________________________________________\n",
      "dense_11 (Dense)             (None, 64)                409664    \n",
      "_________________________________________________________________\n",
      "activation_26 (Activation)   (None, 64)                0         \n",
      "_________________________________________________________________\n",
      "dropout_6 (Dropout)          (None, 64)                0         \n",
      "_________________________________________________________________\n",
      "dense_12 (Dense)             (None, 1)                 65        \n",
      "=================================================================\n",
      "Total params: 468,705\n",
      "Trainable params: 468,705\n",
      "Non-trainable params: 0\n",
      "_________________________________________________________________\n"
     ]
    }
   ],
   "source": [
    "model.summary()"
   ]
  },
  {
   "cell_type": "code",
   "execution_count": 27,
   "metadata": {},
   "outputs": [
    {
     "name": "stdout",
     "output_type": "stream",
     "text": [
      "Found 2002 images belonging to 2 classes.\n",
      "Found 433 images belonging to 2 classes.\n"
     ]
    }
   ],
   "source": [
    "batch_size = 16\n",
    "train_datagen = ImageDataGenerator(\n",
    "        rescale=1./255,#Görüntüyü yeniden ölçeklemek için\n",
    "        shear_range=0.2,#Kaydırma için kullanılır\n",
    "        zoom_range=0.2,#Yakınlaştırma ve uzaklaştırma için\n",
    "        horizontal_flip=True)#Görüntüyü çevirmek için\n",
    "test_datagen = ImageDataGenerator(rescale=1./255)\n",
    "train_generator = train_datagen.flow_from_directory(\n",
    "        'data/train',  \n",
    "        target_size=(100, 100),  #Görüntülerin boyutu\n",
    "        batch_size=batch_size,#Veri yığınları boyutu\n",
    "        class_mode='binary') \n",
    "validation_generator = test_datagen.flow_from_directory(\n",
    "        'data/validation',\n",
    "        target_size=(100, 100),\n",
    "        batch_size=batch_size,\n",
    "        class_mode='binary')"
   ]
  },
  {
   "cell_type": "code",
   "execution_count": 28,
   "metadata": {},
   "outputs": [
    {
     "name": "stdout",
     "output_type": "stream",
     "text": [
      "{'CloseFace': 0, 'OpenFace': 1}\n"
     ]
    }
   ],
   "source": [
    "print(validation_generator.class_indices)"
   ]
  },
  {
   "cell_type": "code",
   "execution_count": 29,
   "metadata": {},
   "outputs": [
    {
     "name": "stdout",
     "output_type": "stream",
     "text": [
      "Epoch 1/50\n",
      "125/125 [==============================] - 85s 680ms/step - loss: 0.7049 - accuracy: 0.5373 - val_loss: 0.7016 - val_accuracy: 0.6713\n",
      "Epoch 2/50\n",
      "125/125 [==============================] - 89s 714ms/step - loss: 0.6822 - accuracy: 0.5866 - val_loss: 0.6188 - val_accuracy: 0.6715\n",
      "Epoch 3/50\n",
      "125/125 [==============================] - 89s 712ms/step - loss: 0.6275 - accuracy: 0.6506 - val_loss: 0.4488 - val_accuracy: 0.7818\n",
      "Epoch 4/50\n",
      "125/125 [==============================] - 91s 730ms/step - loss: 0.5531 - accuracy: 0.7412 - val_loss: 0.3639 - val_accuracy: 0.8465\n",
      "Epoch 5/50\n",
      "125/125 [==============================] - 90s 718ms/step - loss: 0.4673 - accuracy: 0.7885 - val_loss: 0.2023 - val_accuracy: 0.8729\n",
      "Epoch 6/50\n",
      "125/125 [==============================] - 91s 732ms/step - loss: 0.4037 - accuracy: 0.8248 - val_loss: 0.4616 - val_accuracy: 0.8897\n",
      "Epoch 7/50\n",
      "125/125 [==============================] - 90s 717ms/step - loss: 0.3238 - accuracy: 0.8570 - val_loss: 0.1553 - val_accuracy: 0.9257\n",
      "Epoch 8/50\n",
      "125/125 [==============================] - 89s 714ms/step - loss: 0.2912 - accuracy: 0.8807 - val_loss: 0.1498 - val_accuracy: 0.9520\n",
      "Epoch 9/50\n",
      "125/125 [==============================] - 89s 712ms/step - loss: 0.2348 - accuracy: 0.9053 - val_loss: 0.1292 - val_accuracy: 0.9281\n",
      "Epoch 10/50\n",
      "125/125 [==============================] - 89s 711ms/step - loss: 0.2113 - accuracy: 0.9215 - val_loss: 0.0172 - val_accuracy: 0.9161\n",
      "Epoch 11/50\n",
      "125/125 [==============================] - 89s 710ms/step - loss: 0.1810 - accuracy: 0.9305 - val_loss: 0.0878 - val_accuracy: 0.9544\n",
      "Epoch 12/50\n",
      "125/125 [==============================] - 89s 709ms/step - loss: 0.1670 - accuracy: 0.9330 - val_loss: 0.2180 - val_accuracy: 0.9616\n",
      "Epoch 13/50\n",
      "125/125 [==============================] - 89s 712ms/step - loss: 0.1541 - accuracy: 0.9451 - val_loss: 0.1670 - val_accuracy: 0.9376\n",
      "Epoch 14/50\n",
      "125/125 [==============================] - 88s 706ms/step - loss: 0.1565 - accuracy: 0.9371 - val_loss: 0.1502 - val_accuracy: 0.9520\n",
      "Epoch 15/50\n",
      "125/125 [==============================] - 88s 708ms/step - loss: 0.1463 - accuracy: 0.9532 - val_loss: 0.0141 - val_accuracy: 0.9784\n",
      "Epoch 16/50\n",
      "125/125 [==============================] - 89s 713ms/step - loss: 0.1178 - accuracy: 0.9577 - val_loss: 0.0073 - val_accuracy: 0.9616\n",
      "Epoch 17/50\n",
      "125/125 [==============================] - 89s 709ms/step - loss: 0.1207 - accuracy: 0.9582 - val_loss: 0.0517 - val_accuracy: 0.9640\n",
      "Epoch 18/50\n",
      "125/125 [==============================] - 89s 708ms/step - loss: 0.1181 - accuracy: 0.9587 - val_loss: 0.0946 - val_accuracy: 0.9544\n",
      "Epoch 19/50\n",
      "125/125 [==============================] - 89s 711ms/step - loss: 0.1065 - accuracy: 0.9622 - val_loss: 4.2701e-04 - val_accuracy: 0.9808\n",
      "Epoch 20/50\n",
      "125/125 [==============================] - 88s 706ms/step - loss: 0.1166 - accuracy: 0.9627 - val_loss: 0.1066 - val_accuracy: 0.9424\n",
      "Epoch 21/50\n",
      "125/125 [==============================] - 117s 935ms/step - loss: 0.1083 - accuracy: 0.9648 - val_loss: 9.2922e-04 - val_accuracy: 0.9688\n",
      "Epoch 22/50\n",
      "125/125 [==============================] - 89s 715ms/step - loss: 0.1164 - accuracy: 0.9627 - val_loss: 0.0011 - val_accuracy: 0.9616\n",
      "Epoch 23/50\n",
      "125/125 [==============================] - 90s 719ms/step - loss: 0.0970 - accuracy: 0.9655 - val_loss: 0.0260 - val_accuracy: 0.9688\n",
      "Epoch 24/50\n",
      "125/125 [==============================] - 89s 713ms/step - loss: 0.0918 - accuracy: 0.9701 - val_loss: 0.0053 - val_accuracy: 0.9760\n",
      "Epoch 25/50\n",
      "125/125 [==============================] - 91s 724ms/step - loss: 0.0993 - accuracy: 0.9678 - val_loss: 0.0623 - val_accuracy: 0.9712\n",
      "Epoch 26/50\n",
      "125/125 [==============================] - 91s 731ms/step - loss: 0.0933 - accuracy: 0.9678 - val_loss: 8.8099e-04 - val_accuracy: 0.9616\n",
      "Epoch 27/50\n",
      "125/125 [==============================] - 91s 732ms/step - loss: 0.1210 - accuracy: 0.9673 - val_loss: 0.3147 - val_accuracy: 0.9616\n",
      "Epoch 28/50\n",
      "125/125 [==============================] - 91s 727ms/step - loss: 0.0925 - accuracy: 0.9663 - val_loss: 4.0055e-04 - val_accuracy: 0.9616\n",
      "Epoch 29/50\n",
      "125/125 [==============================] - 90s 723ms/step - loss: 0.0982 - accuracy: 0.9632 - val_loss: 0.0301 - val_accuracy: 0.9676\n",
      "Epoch 30/50\n",
      "125/125 [==============================] - 92s 737ms/step - loss: 0.0893 - accuracy: 0.9695 - val_loss: 0.3174 - val_accuracy: 0.9688\n",
      "Epoch 31/50\n",
      "125/125 [==============================] - 89s 710ms/step - loss: 0.0854 - accuracy: 0.9696 - val_loss: 0.0108 - val_accuracy: 0.9760\n",
      "Epoch 32/50\n",
      "125/125 [==============================] - 89s 712ms/step - loss: 0.0808 - accuracy: 0.9753 - val_loss: 0.0071 - val_accuracy: 0.9664\n",
      "Epoch 33/50\n",
      "125/125 [==============================] - 89s 710ms/step - loss: 0.1023 - accuracy: 0.9698 - val_loss: 0.7938 - val_accuracy: 0.9784\n",
      "Epoch 34/50\n",
      "125/125 [==============================] - 89s 712ms/step - loss: 0.0734 - accuracy: 0.9758 - val_loss: 5.4214e-04 - val_accuracy: 0.9808\n",
      "Epoch 35/50\n",
      "125/125 [==============================] - 89s 712ms/step - loss: 0.0816 - accuracy: 0.9713 - val_loss: 0.2900 - val_accuracy: 0.9544\n",
      "Epoch 36/50\n",
      "125/125 [==============================] - 89s 715ms/step - loss: 0.0768 - accuracy: 0.9745 - val_loss: 0.6711 - val_accuracy: 0.9568\n",
      "Epoch 37/50\n",
      "125/125 [==============================] - 89s 714ms/step - loss: 0.0815 - accuracy: 0.9733 - val_loss: 8.6699e-05 - val_accuracy: 0.9832\n",
      "Epoch 38/50\n",
      "125/125 [==============================] - 89s 715ms/step - loss: 0.1140 - accuracy: 0.9701 - val_loss: 0.0086 - val_accuracy: 0.9496\n",
      "Epoch 39/50\n",
      "125/125 [==============================] - 90s 724ms/step - loss: 0.0956 - accuracy: 0.9678 - val_loss: 0.2660 - val_accuracy: 0.9688\n",
      "Epoch 40/50\n",
      "125/125 [==============================] - 90s 718ms/step - loss: 0.0830 - accuracy: 0.9738 - val_loss: 0.0100 - val_accuracy: 0.9616\n",
      "Epoch 41/50\n",
      "125/125 [==============================] - 90s 722ms/step - loss: 0.0862 - accuracy: 0.9800 - val_loss: 0.0185 - val_accuracy: 0.9688\n",
      "Epoch 42/50\n",
      "125/125 [==============================] - 89s 712ms/step - loss: 0.0975 - accuracy: 0.9728 - val_loss: 0.0678 - val_accuracy: 0.9496\n",
      "Epoch 43/50\n",
      "125/125 [==============================] - 89s 710ms/step - loss: 0.0743 - accuracy: 0.9782 - val_loss: 3.3799e-04 - val_accuracy: 0.9664\n",
      "Epoch 44/50\n",
      "125/125 [==============================] - 1620s 13s/step - loss: 0.0705 - accuracy: 0.9748 - val_loss: 6.0127e-04 - val_accuracy: 0.9544\n",
      "Epoch 45/50\n",
      "125/125 [==============================] - 90s 722ms/step - loss: 0.0890 - accuracy: 0.9718 - val_loss: 0.0358 - val_accuracy: 0.9664\n",
      "Epoch 46/50\n",
      "125/125 [==============================] - 90s 719ms/step - loss: 0.0946 - accuracy: 0.9770 - val_loss: 0.1166 - val_accuracy: 0.9448\n",
      "Epoch 47/50\n",
      "125/125 [==============================] - 93s 742ms/step - loss: 0.0636 - accuracy: 0.9802 - val_loss: 0.2631 - val_accuracy: 0.9688\n",
      "Epoch 48/50\n",
      "125/125 [==============================] - 90s 716ms/step - loss: 0.0899 - accuracy: 0.9753 - val_loss: 0.1038 - val_accuracy: 0.9712\n",
      "Epoch 49/50\n",
      "125/125 [==============================] - 90s 718ms/step - loss: 0.0790 - accuracy: 0.9740 - val_loss: 0.0083 - val_accuracy: 0.9712\n",
      "Epoch 50/50\n",
      "125/125 [==============================] - 89s 713ms/step - loss: 0.0853 - accuracy: 0.9768 - val_loss: 1.2389e-05 - val_accuracy: 0.9640\n"
     ]
    },
    {
     "data": {
      "text/plain": [
       "<keras.callbacks.callbacks.History at 0x135bdfc9b88>"
      ]
     },
     "execution_count": 29,
     "metadata": {},
     "output_type": "execute_result"
    }
   ],
   "source": [
    "model.fit_generator(\n",
    "        train_generator,\n",
    "        steps_per_epoch=2002 // batch_size, #Toplu yineleme sayısı eğitim bitmeden \n",
    "        epochs=50,#Model eğitilirken modelden veilerin kaç kez geçiş yapacağı\n",
    "        validation_data=validation_generator,\n",
    "        validation_steps=433 // batch_size)"
   ]
  },
  {
   "cell_type": "code",
   "execution_count": 30,
   "metadata": {},
   "outputs": [],
   "source": [
    "model.save_weights('model_generator_weight.h5')  \n",
    "model.save('model_generator.h5')"
   ]
  },
  {
   "cell_type": "code",
   "execution_count": null,
   "metadata": {},
   "outputs": [],
   "source": []
  }
 ],
 "metadata": {
  "kernelspec": {
   "display_name": "Python 3",
   "language": "python",
   "name": "python3"
  },
  "language_info": {
   "codemirror_mode": {
    "name": "ipython",
    "version": 3
   },
   "file_extension": ".py",
   "mimetype": "text/x-python",
   "name": "python",
   "nbconvert_exporter": "python",
   "pygments_lexer": "ipython3",
   "version": "3.7.6"
  }
 },
 "nbformat": 4,
 "nbformat_minor": 4
}
